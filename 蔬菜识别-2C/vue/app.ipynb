{
 "cells": [
  {
   "cell_type": "code",
   "execution_count": null,
   "id": "09abbd47",
   "metadata": {},
   "outputs": [],
   "source": [
    "from flask import Flask, render_template\n",
    "from gevent import pywsgi\n",
    "\n",
    "app = Flask(__name__)\n",
    "\n",
    "@app.route(\"/\")\n",
    "def home():\n",
    "    # 渲染主页模板\n",
    "    return render_template(\"index.html\")\n",
    "\n",
    "if __name__ == '__main__':\n",
    "    # 使用 pywsgi 启动服务\n",
    "    server = pywsgi.WSGIServer(('127.0.0.1', 5555), app)\n",
    "    server.serve_forever()\n"
   ]
  },
  {
   "cell_type": "code",
   "execution_count": null,
   "id": "14723c84",
   "metadata": {},
   "outputs": [],
   "source": [
    "# ***************************************导入的包****************************************\n",
    "# from flask import Flask, request, jsonify\n",
    "# from flask_cors import CORS\n",
    "# import pymysql\n",
    "# import os\n",
    "# from test_img_recognition import predict,classify_images,result_classes\n",
    "# app = Flask(__name__)\n",
    "# CORS(app)\n",
    "\n",
    "# from sqlalchemy import create_engine, Column, Integer, String, DateTime, Float,update\n",
    "# from sqlalchemy.ext.declarative import declarative_base\n",
    "# from sqlalchemy.orm import sessionmaker\n",
    "# from extension import db\n",
    "# from models import Vegetable,Vegetable_2\n",
    "# import datetime\n",
    "# import random\n",
    "# # **************************************图像识别的结果：***********************************\n",
    "# chinese_predicted_classes = result_classes()\n",
    "# *********************************数据库连接参数整合为字典**********************************\n",
    "\n",
    "# # 调用后端接口分配库存\n",
    "# @app.route('/allocate_inventory', methods=['POST'])\n",
    "# def allocate_inventory():\n",
    "#     # 示例预测类别\n",
    "#     predicted_classes = ['西红柿', '土豆']\n",
    "\n",
    "#     # 调用后端接口\n",
    "#     response = requests.post(\n",
    "#         'http://127.0.0.1:5000/allocate_inventory',  # 替换为后端接口地址\n",
    "#         json={'predicted_classes': predicted_classes}\n",
    "#     )\n",
    "\n",
    "#     # 返回后端接口的响应\n",
    "#     return response.json()\n",
    "\n",
    "# # 获取购物车数据\n",
    "# @app.route('/cart', methods=['GET'])\n",
    "# def get_cart():\n",
    "#     # 调用后端接口\n",
    "#     response = requests.get('http://127.0.0.1:5000/cart')  # 替换为后端接口地址\n",
    "\n",
    "#     # 返回后端接口的响应\n",
    "#     return response.json()\n",
    "\n",
    "    \n",
    "# if __name__ == '__main__':\n",
    "#     app.run(port=5555)\n"
   ]
  }
 ],
 "metadata": {
  "kernelspec": {
   "display_name": "base",
   "language": "python",
   "name": "python3"
  },
  "language_info": {
   "name": "python",
   "version": "3.10.9"
  }
 },
 "nbformat": 4,
 "nbformat_minor": 5
}
