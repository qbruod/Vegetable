{
 "cells": [
  {
   "cell_type": "code",
   "execution_count": null,
   "metadata": {},
   "outputs": [
    {
     "ename": "ModuleNotFoundError",
     "evalue": "No module named 'test_img_recognition'",
     "output_type": "error",
     "traceback": [
      "\u001b[1;31m---------------------------------------------------------------------------\u001b[0m",
      "\u001b[1;31mModuleNotFoundError\u001b[0m                       Traceback (most recent call last)",
      "Cell \u001b[1;32mIn[1], line 4\u001b[0m\n\u001b[0;32m      1\u001b[0m \u001b[38;5;66;03m# import pymysql\u001b[39;00m\n\u001b[0;32m      2\u001b[0m \u001b[38;5;66;03m# import random\u001b[39;00m\n\u001b[0;32m      3\u001b[0m \u001b[38;5;66;03m# import os\u001b[39;00m\n\u001b[1;32m----> 4\u001b[0m \u001b[38;5;28;01mfrom\u001b[39;00m\u001b[38;5;250m \u001b[39m\u001b[38;5;21;01mtest_img_recognition\u001b[39;00m\u001b[38;5;250m \u001b[39m\u001b[38;5;28;01mimport\u001b[39;00m predict,classify_images\n\u001b[0;32m      6\u001b[0m \u001b[38;5;66;03m# 需要识别的图片路径：\u001b[39;00m\n\u001b[0;32m      7\u001b[0m image_paths \u001b[38;5;241m=\u001b[39m [\n\u001b[0;32m      8\u001b[0m     \u001b[38;5;124m\"\u001b[39m\u001b[38;5;124m./pic/photo.png\u001b[39m\u001b[38;5;124m\"\u001b[39m,\n\u001b[0;32m      9\u001b[0m     \u001b[38;5;124m\"\u001b[39m\u001b[38;5;124m./pic/potato.jpg\u001b[39m\u001b[38;5;124m\"\u001b[39m,\n\u001b[0;32m     10\u001b[0m     \u001b[38;5;124m\"\u001b[39m\u001b[38;5;124m./pic/tomato.jpg\u001b[39m\u001b[38;5;124m\"\u001b[39m,\n\u001b[0;32m     11\u001b[0m ]\n",
      "\u001b[1;31mModuleNotFoundError\u001b[0m: No module named 'test_img_recognition'"
     ]
    }
   ],
   "source": [
    "# import pymysql\n",
    "# import random\n",
    "# import os\n",
    "from test_img_recognition import predict,classify_images\n",
    "\n",
    "# 需要识别的图片路径：\n",
    "image_paths = [\n",
    "    \"./pic/photo.png\",\n",
    "    \"./pic/potato.jpg\",\n",
    "    \"./pic/tomato.jpg\",\n",
    "]\n",
    "predicted_classes_result = classify_images(image_paths)\n",
    "print(predicted_classes_result)\n",
    "# 打印输出结果\n",
    "# 定义一个英文到中文的映射字典\n",
    "english_to_chinese_mapping = {\n",
    "    'Tomato': '西红柿',\n",
    "    'Potato': '土豆',\n",
    "}\n",
    "chinese_predicted_classes = [english_to_chinese_mapping.get(veg, veg) for veg in predicted_classes_result]\n",
    "print(chinese_predicted_classes)"
   ]
  },
  {
   "cell_type": "code",
   "execution_count": null,
   "metadata": {},
   "outputs": [
    {
     "name": "stdout",
     "output_type": "stream",
     "text": [
      " * Serving Flask app '__main__'\n",
      " * Debug mode: off\n"
     ]
    },
    {
     "name": "stderr",
     "output_type": "stream",
     "text": [
      "WARNING: This is a development server. Do not use it in a production deployment. Use a production WSGI server instead.\n",
      " * Running on http://127.0.0.1:5555\n",
      "Press CTRL+C to quit\n",
      "127.0.0.1 - - [08/Jun/2024 15:03:41] \"GET /cart HTTP/1.1\" 200 -\n"
     ]
    }
   ],
   "source": [
    "from flask import Flask, render_template\n",
    "from gevent import pywsgi\n",
    "\n",
    "app = Flask(__name__)\n",
    "\n",
    "@app.route(\"/\")\n",
    "def home():\n",
    "    # 渲染主页模板\n",
    "    return render_template(\"index.html\")\n",
    "\n",
    "if __name__ == '__main__':\n",
    "    # 使用 pywsgi 启动服务\n",
    "    server = pywsgi.WSGIServer(('127.0.0.1', 5555), app)\n",
    "    server.serve_forever()"
   ]
  }
 ],
 "metadata": {
  "kernelspec": {
   "display_name": "base",
   "language": "python",
   "name": "python3"
  },
  "language_info": {
   "codemirror_mode": {
    "name": "ipython",
    "version": 3
   },
   "file_extension": ".py",
   "mimetype": "text/x-python",
   "name": "python",
   "nbconvert_exporter": "python",
   "pygments_lexer": "ipython3",
   "version": "3.10.9"
  }
 },
 "nbformat": 4,
 "nbformat_minor": 2
}
