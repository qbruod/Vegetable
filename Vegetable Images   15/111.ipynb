{
 "cells": [
  {
   "cell_type": "code",
   "execution_count": 1,
   "metadata": {},
   "outputs": [
    {
     "ename": "ImportError",
     "evalue": "cannot import name 'ImageDataGenerator' from 'keras.preprocessing.image' (d:\\anaconda3\\Lib\\site-packages\\keras\\preprocessing\\image\\__init__.py)",
     "output_type": "error",
     "traceback": [
      "\u001b[1;31m---------------------------------------------------------------------------\u001b[0m",
      "\u001b[1;31mImportError\u001b[0m                               Traceback (most recent call last)",
      "Cell \u001b[1;32mIn[1], line 23\u001b[0m\n\u001b[0;32m     21\u001b[0m \u001b[38;5;28;01mfrom\u001b[39;00m \u001b[38;5;21;01mkeras\u001b[39;00m\u001b[38;5;21;01m.\u001b[39;00m\u001b[38;5;21;01mmodels\u001b[39;00m \u001b[38;5;28;01mimport\u001b[39;00m Sequential, Model  \u001b[38;5;66;03m##  sequential model\u001b[39;00m\n\u001b[0;32m     22\u001b[0m \u001b[38;5;28;01mfrom\u001b[39;00m \u001b[38;5;21;01mkeras\u001b[39;00m\u001b[38;5;21;01m.\u001b[39;00m\u001b[38;5;21;01mpreprocessing\u001b[39;00m \u001b[38;5;28;01mimport\u001b[39;00m image\n\u001b[1;32m---> 23\u001b[0m \u001b[38;5;28;01mfrom\u001b[39;00m \u001b[38;5;21;01mkeras\u001b[39;00m\u001b[38;5;21;01m.\u001b[39;00m\u001b[38;5;21;01mpreprocessing\u001b[39;00m\u001b[38;5;21;01m.\u001b[39;00m\u001b[38;5;21;01mimage\u001b[39;00m \u001b[38;5;28;01mimport\u001b[39;00m ImageDataGenerator\n\u001b[0;32m     25\u001b[0m \u001b[38;5;66;03m## pre-trained model\u001b[39;00m\n\u001b[0;32m     26\u001b[0m \u001b[38;5;28;01mfrom\u001b[39;00m \u001b[38;5;21;01mtensorflow\u001b[39;00m\u001b[38;5;21;01m.\u001b[39;00m\u001b[38;5;21;01mkeras\u001b[39;00m\u001b[38;5;21;01m.\u001b[39;00m\u001b[38;5;21;01mapplications\u001b[39;00m\u001b[38;5;21;01m.\u001b[39;00m\u001b[38;5;21;01minception_v3\u001b[39;00m \u001b[38;5;28;01mimport\u001b[39;00m InceptionV3\n",
      "\u001b[1;31mImportError\u001b[0m: cannot import name 'ImageDataGenerator' from 'keras.preprocessing.image' (d:\\anaconda3\\Lib\\site-packages\\keras\\preprocessing\\image\\__init__.py)"
     ]
    }
   ],
   "source": [
    "## data manipulation\n",
    "import numpy as np\n",
    "import pandas as pd\n",
    "\n",
    "## plotting\n",
    "import matplotlib.pyplot as plt\n",
    "import seaborn as sns\n",
    "\n",
    "## nueral network creation\n",
    "import tensorflow as tf\n",
    "from tensorflow import keras\n",
    "from keras.layers import (\n",
    "    Conv2D,\n",
    "    MaxPooling2D,\n",
    "    Flatten,\n",
    "    Dense,\n",
    "    BatchNormalization,\n",
    "    Dropout,\n",
    "    GlobalAveragePooling2D,\n",
    ")\n",
    "from keras.models import Sequential, Model  ##  sequential model\n",
    "from keras.preprocessing import image\n",
    "from keras.preprocessing.image import ImageDataGenerator\n",
    "\n",
    "## pre-trained model\n",
    "from tensorflow.keras.applications.inception_v3 import InceptionV3\n",
    "\n",
    "## Evalution metrics\n",
    "# from sklearn.metrics import confusion_matrix,classification_report,ConfusionMatrixDisplay\n",
    "\n",
    "import os, shutil\n",
    "import warnings\n",
    "\n",
    "warnings.filterwarnings(\"ignore\")"
   ]
  },
  {
   "cell_type": "code",
   "execution_count": null,
   "metadata": {},
   "outputs": [],
   "source": [
    "# data paths\n",
    "train_path = \"train/\"\n",
    "validation_path = \"validation/\"\n",
    "test_path = \"test/\"\n",
    "\n",
    "image_categories = os.listdir(\"train/\")\n",
    "\n",
    "\n",
    "def plot_images(image_categories):\n",
    "    \"\"\"\n",
    "    Plot Each label Once\n",
    "    \"\"\"\n",
    "    # Create a figure\n",
    "    plt.figure(1, figsize=(15, 10))\n",
    "    for i, cat in enumerate(image_categories):  # cat是类别\n",
    "        # Load images for the ith category\n",
    "        image_path = train_path + \"/\" + cat\n",
    "        images_in_folder = os.listdir(image_path)\n",
    "        first_image_of_folder = images_in_folder[i]\n",
    "        first_image_path = image_path + \"/\" + first_image_of_folder\n",
    "        img = image.load_img(first_image_path)\n",
    "        img_arr = image.img_to_array(img) / 10\n",
    "        # Create Subplot and plot the images\n",
    "        plt.subplot(3, 5, i + 1)\n",
    "        plt.title(cat)\n",
    "        plt.imshow(img_arr)\n",
    "\n",
    "    plt.tight_layout()\n",
    "\n",
    "\n",
    "plot_images(image_categories)"
   ]
  }
 ],
 "metadata": {
  "kernelspec": {
   "display_name": "xunihuanjing1",
   "language": "python",
   "name": "python3"
  },
  "language_info": {
   "codemirror_mode": {
    "name": "ipython",
    "version": 3
   },
   "file_extension": ".py",
   "mimetype": "text/x-python",
   "name": "python",
   "nbconvert_exporter": "python",
   "pygments_lexer": "ipython3",
   "version": "3.11.5"
  }
 },
 "nbformat": 4,
 "nbformat_minor": 2
}
